{
 "cells": [
  {
   "cell_type": "code",
   "execution_count": null,
   "metadata": {},
   "outputs": [],
   "source": [
    "import numpy as np\n",
    "from skimage import io"
   ]
  },
  {
   "cell_type": "code",
   "execution_count": null,
   "metadata": {},
   "outputs": [],
   "source": [
    "impath = \"imagepath\"\n",
    "im = io.imread(impath)"
   ]
  },
  {
   "cell_type": "code",
   "execution_count": null,
   "metadata": {},
   "outputs": [],
   "source": [
    "c1 = im[:,0,:,:]\n",
    "c2 = im[:,1,:,:]"
   ]
  },
  {
   "cell_type": "code",
   "execution_count": null,
   "metadata": {},
   "outputs": [],
   "source": [
    "c1avs = []\n",
    "for frame in c1:\n",
    "    c1avs.append(np.average(frame))\n",
    "c1avs_norm = c1avs/np.max(c1avs)"
   ]
  },
  {
   "cell_type": "code",
   "execution_count": null,
   "metadata": {},
   "outputs": [],
   "source": [
    "c2avs = []\n",
    "for frame in c2:\n",
    "    c2avs.append(np.average(frame))\n",
    "c2avs_norm = c2avs/np.max(c2avs)"
   ]
  },
  {
   "cell_type": "code",
   "execution_count": null,
   "metadata": {},
   "outputs": [],
   "source": [
    "ctrlpath = \"control_image_path\"\n",
    "ctrlim = io.imread(ctrlpath)"
   ]
  },
  {
   "cell_type": "code",
   "execution_count": null,
   "metadata": {},
   "outputs": [],
   "source": [
    "ctrlc1 = ctrlim[:,0,:,:]\n",
    "ctrlc2 = ctrlim[:,1,:,:]"
   ]
  },
  {
   "cell_type": "code",
   "execution_count": null,
   "metadata": {},
   "outputs": [],
   "source": [
    "ctrlc1avs = []\n",
    "for frame in ctrlc1:\n",
    "    ctrlc1avs.append(np.average(frame))\n",
    "ctrlc1avs_norm = ctrlc1avs/np.max(ctrlc1avs)\n",
    "\n",
    "ctrlc2avs = []\n",
    "for frame in ctrlc2:\n",
    "    ctrlc2avs.append(np.average(frame))\n",
    "ctrlc2avs_norm = ctrlc2avs/np.max(ctrlc2avs)"
   ]
  },
  {
   "cell_type": "code",
   "execution_count": null,
   "metadata": {},
   "outputs": [],
   "source": [
    "c1min = c1avs_norm[5]\n",
    "c2min = c2avs_norm[5]\n",
    "window = 4\n",
    "ctrlc1last = np.average(ctrlc1avs_norm[-window:])\n",
    "ctrlc2last = np.average(ctrlc2avs_norm[-window:])\n",
    "c1last = np.average(c1avs_norm[-window:])\n",
    "c2last = np.average(c2avs_norm[-window:])"
   ]
  },
  {
   "cell_type": "code",
   "execution_count": null,
   "metadata": {},
   "outputs": [],
   "source": [
    "c1recov = (c1last-c1min)/(ctrlc1last-c1min)*100\n",
    "print(c1recov)"
   ]
  },
  {
   "cell_type": "code",
   "execution_count": null,
   "metadata": {},
   "outputs": [],
   "source": [
    "c2recov = (c2last-c2min)/(ctrlc2last-c2min)*100\n",
    "print(c2recov)"
   ]
  }
 ],
 "metadata": {
  "kernelspec": {
   "display_name": "Python 3 (ipykernel)",
   "language": "python",
   "name": "python3"
  },
  "language_info": {
   "codemirror_mode": {
    "name": "ipython",
    "version": 3
   },
   "file_extension": ".py",
   "mimetype": "text/x-python",
   "name": "python",
   "nbconvert_exporter": "python",
   "pygments_lexer": "ipython3",
   "version": "3.8.16"
  }
 },
 "nbformat": 4,
 "nbformat_minor": 4
}
